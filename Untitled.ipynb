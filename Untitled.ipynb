{
 "cells": [
  {
   "cell_type": "code",
   "execution_count": 11,
   "metadata": {
    "collapsed": true
   },
   "outputs": [],
   "source": [
    "import mido as md\n",
    "import numpy as np"
   ]
  },
  {
   "cell_type": "code",
   "execution_count": 1,
   "metadata": {
    "collapsed": false
   },
   "outputs": [],
   "source": [
    "def generate_transition_probs(filepath):\n",
    "    song = md.MidiFile(filepath)\n",
    "    poop = np.zeros((127, 127))\n",
    "    prevnote = None\n",
    "    n = np.zeros(127)\n",
    "    for msg in song:\n",
    "        x = vars(msg)\n",
    "        if x['type'] == 'note_on' and x['velocity'] != 0:\n",
    "            note = x['note']\n",
    "            if prevnote is not None:\n",
    "                poop[prevnote][note] += 1\n",
    "                n[prevnote] += 1\n",
    "            prevnote = note\n",
    "\n",
    "    for i in range(127):\n",
    "        if (n[i] != 0):\n",
    "            poop[i] /= n[i]\n",
    "    return poop"
   ]
  },
  {
   "cell_type": "code",
   "execution_count": 2,
   "metadata": {
    "collapsed": false
   },
   "outputs": [],
   "source": [
    "def transpose(filepath, offset):\n",
    "    result = md.MidiFile()\n",
    "    \n",
    "    song = md.MidiFile(filepath)\n",
    "    for track in song.tracks:\n",
    "        newtrack = md.MidiTrack()\n",
    "        result.tracks.append(newtrack)\n",
    "        for msg in track:\n",
    "            x = vars(msg)\n",
    "            if x['type'] == 'note_on':\n",
    "                note = x['note']\n",
    "                note += offset\n",
    "                newmessage = md.Message('note_on', note=note, velocity=x['velocity'], time=x['time'])\n",
    "                newtrack.append(newmessage)\n",
    "            else:\n",
    "                newtrack.append(msg)\n",
    "    result.save(\"midis/1.mid\")"
   ]
  },
  {
   "cell_type": "code",
   "execution_count": 3,
   "metadata": {
    "collapsed": false
   },
   "outputs": [],
   "source": [
    "def findKeySignature(song):\n",
    "    for i, track in enumerate(song.tracks):\n",
    "        for msg in track:\n",
    "            if msg.type == 'key_signature':\n",
    "                return msg.key\n",
    "            \n",
    "def findTransposeOffset(filepath):\n",
    "    song = md.MidiFile(filepath)\n",
    "    keys = ['C', 'C#/Db', 'D', 'D#/Eb', 'E', 'F', 'F#/Gb', 'G', 'G#/Ab', 'A', 'A#/Bb', 'B']\n",
    "    keySig = findKeySignature(song)\n",
    "    print(keySig)\n",
    "    for i in range(len(keys)):\n",
    "        if keySig in keys[i]:\n",
    "            offset = i\n",
    "            break\n",
    "    return offset"
   ]
  },
  {
   "cell_type": "code",
   "execution_count": null,
   "metadata": {
    "collapsed": true
   },
   "outputs": [],
   "source": []
  }
 ],
 "metadata": {
  "anaconda-cloud": {},
  "kernelspec": {
   "display_name": "Python [default]",
   "language": "python",
   "name": "python3"
  },
  "language_info": {
   "codemirror_mode": {
    "name": "ipython",
    "version": 3
   },
   "file_extension": ".py",
   "mimetype": "text/x-python",
   "name": "python",
   "nbconvert_exporter": "python",
   "pygments_lexer": "ipython3",
   "version": "3.5.2"
  }
 },
 "nbformat": 4,
 "nbformat_minor": 1
}
