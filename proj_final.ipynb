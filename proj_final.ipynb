{
 "cells": [
  {
   "cell_type": "code",
   "execution_count": 6,
   "metadata": {
    "collapsed": false
   },
   "outputs": [],
   "source": [
    "import mido as md\n",
    "import numpy as np"
   ]
  },
  {
   "cell_type": "code",
   "execution_count": 10,
   "metadata": {
    "collapsed": false
   },
   "outputs": [],
   "source": [
    "# Outputs a list of transition matrices (128x128), one for each track in the MIDI whose filepath is input\n",
    "def generate_transition_probs(filepath):\n",
    "    poops = []\n",
    "    song = md.MidiFile(filepath)\n",
    "    \n",
    "    for track in song.tracks:\n",
    "        poop = np.zeros((128, 128))\n",
    "        prevnote = None\n",
    "        n = np.zeros(128)\n",
    "        for msg in track:\n",
    "            x = vars(msg)\n",
    "            if x['type'] == 'note_on' and x['velocity'] != 0:\n",
    "                note = x['note']\n",
    "                if prevnote is not None:\n",
    "                    poop[prevnote][note] += 1\n",
    "                    n[prevnote] += 1\n",
    "                prevnote = note\n",
    "\n",
    "        for i in range(128):\n",
    "            if (n[i] != 0):\n",
    "                poop[i] /= n[i]\n",
    "        poops.append(poop)\n",
    "    return poops"
   ]
  },
  {
   "cell_type": "code",
   "execution_count": 11,
   "metadata": {
    "collapsed": false
   },
   "outputs": [],
   "source": [
    "# Adds an integer offset to all the notes of the MIDI whose filepath is input\n",
    "def transpose(filepath, offset):\n",
    "    result = md.MidiFile()\n",
    "    \n",
    "    song = md.MidiFile(filepath)\n",
    "    for track in song.tracks:\n",
    "        newtrack = md.MidiTrack()\n",
    "        result.tracks.append(newtrack)\n",
    "        for msg in track:\n",
    "            x = vars(msg)\n",
    "            if x['type'] == 'note_on':\n",
    "                note = x['note']\n",
    "                note += offset\n",
    "                newmessage = md.Message('note_on', note=note, velocity=x['velocity'], time=x['time'])\n",
    "                newtrack.append(newmessage)\n",
    "            else:\n",
    "                newtrack.append(msg)\n",
    "    result.save(\"midis/1.mid\")"
   ]
  },
  {
   "cell_type": "code",
   "execution_count": 12,
   "metadata": {
    "collapsed": false
   },
   "outputs": [],
   "source": [
    "def findKeySignature(song):\n",
    "    for i, track in enumerate(song.tracks):\n",
    "        for msg in track:\n",
    "            if msg.type == 'key_signature':\n",
    "                return msg.key\n",
    "            \n",
    "# Finds the offset needed to transpose a MIDI to C major            \n",
    "def findTransposeOffset(filepath):\n",
    "    song = md.MidiFile(filepath)\n",
    "    keys = ['C', 'C#/Db', 'D', 'D#/Eb', 'E', 'F', 'F#/Gb', 'G', 'G#/Ab', 'A', 'A#/Bb', 'B']\n",
    "    keySig = findKeySignature(song)\n",
    "    print(keySig)\n",
    "    for i in range(len(keys)):\n",
    "        if keySig in keys[i]:\n",
    "            offset = i\n",
    "            break\n",
    "    return offset"
   ]
  },
  {
   "cell_type": "code",
   "execution_count": 206,
   "metadata": {
    "collapsed": false
   },
   "outputs": [],
   "source": [
    "# Returns the note-to-note transitions and\n",
    "# the notelength-to-notelength transitions.\n",
    "\n",
    "# Uncomment the line which sets max_len to 2000 if needed, and increase 2000 if needed\n",
    "def generate_transition_probs_and_times(filepath):\n",
    "    poops = []\n",
    "    times = []\n",
    "    max_len = 0\n",
    "    song = md.MidiFile(filepath)\n",
    "    for track in song.tracks:\n",
    "        for msg in track:\n",
    "            if msg.type == 'note_on':\n",
    "                max_len = max(max_len, msg.time)\n",
    "    #max_len=2000\n",
    "    for track in song.tracks:\n",
    "        time_matrix = np.zeros((max_len+1, max_len+1))\n",
    "        poop = np.zeros((128, 128))\n",
    "        prevnote = None\n",
    "        prevlength = None\n",
    "        curr_length = 0\n",
    "        n = np.zeros(128)\n",
    "        n_times = np.zeros(max_len+1)\n",
    "        for msg in track:\n",
    "            x = vars(msg)\n",
    "            if x['type'] == 'note_on' and x['velocity'] != 0:\n",
    "                note = x['note']\n",
    "                curr_length += x['time']\n",
    "                if prevnote is not None:\n",
    "                    poop[prevnote][note] += 1\n",
    "                    n[prevnote] += 1\n",
    "                if prevlength is not None:\n",
    "                    time_matrix[prevlength][curr_length] +=1\n",
    "                    n_times[prevlength] += 1\n",
    "                prevnote = note\n",
    "                prevlength = curr_length\n",
    "                curr_length = 0\n",
    "            elif x['type'] == 'note_on':\n",
    "                curr_length += x['time']\n",
    "        for i in range(128):\n",
    "            if n[i] != 0:\n",
    "                poop[i] /= n[i]\n",
    "        for j in range(max_len+1):\n",
    "            if n_times[j] != 0:\n",
    "                time_matrix[j] /= n_times[j]\n",
    "        poops.append(poop)\n",
    "        times.append(time_matrix)\n",
    "    return poops, times"
   ]
  },
  {
   "cell_type": "code",
   "execution_count": 207,
   "metadata": {
    "collapsed": false
   },
   "outputs": [],
   "source": [
    "songLength = 500\n",
    "starting_note = 66\n",
    "pMatrices, times = generate_transition_probs_and_times(\"midis/chpn_op25_e11.mid\")"
   ]
  },
  {
   "cell_type": "code",
   "execution_count": 209,
   "metadata": {
    "collapsed": false
   },
   "outputs": [
    {
     "name": "stdout",
     "output_type": "stream",
     "text": [
      "(3841, 3841)\n"
     ]
    }
   ],
   "source": [
    "# Generate a random track based on the 2th track (left hand)\n",
    "# of Chopin's Winter Wind with note-transition probs\n",
    "# AND note-length transition probs\n",
    "# (EXPERIMENT 3)\n",
    "\n",
    "from mido import Message, MidiFile, MidiTrack\n",
    "\n",
    "delta = 80\n",
    "current_note = starting_note\n",
    "previous_note = starting_note\n",
    "current_length = 120\n",
    "previous_length = current_length\n",
    "current_time = 0\n",
    "\n",
    "rh_trans = pMatrices[2]\n",
    "rh_times = times[2]\n",
    "print(rh_times.shape)\n",
    "# print(rh_trans[current_note])\n",
    "\n",
    "outfile = MidiFile()\n",
    "\n",
    "track = MidiTrack()\n",
    "outfile.tracks.append(track)\n",
    "\n",
    "# track.append(Message('instrument_name', 'piano'))\n",
    "track.append(Message('program_change', program=12))\n",
    "\n",
    "hardcap = 480\n",
    "for i in range(songLength):\n",
    "    track.append(Message('note_on', note = current_note, velocity = 127, time = current_length))\n",
    "    \n",
    "    possibleNexts = {i:rh_trans[current_note][i] for i in range(128) if rh_trans[current_note][i] > 0}\n",
    "    notes = list(possibleNexts.keys())\n",
    "    probabilities = [possibleNexts[n] for n in notes]\n",
    "    \n",
    "    possibleNextLengths = {i:rh_times[current_length][i] for i in range(len(rh_times)) if rh_times[current_length][i] > 0}\n",
    "    lengths = list(possibleNextLengths.keys())\n",
    "    prob_lengths = [possibleNextLengths[n] for n in lengths]\n",
    "    \n",
    "    previous_note = current_note\n",
    "    previous_length = current_length\n",
    "    \n",
    "    current_note = np.random.choice(notes, 1, p=probabilities)[0]\n",
    "    if len(lengths) < 1: \n",
    "        x=1/0\n",
    "        print(current_length)\n",
    "    current_length = np.random.choice(lengths, size=1, p=prob_lengths)[0]\n",
    "\n",
    "outfile.save('winterwindLH.mid')"
   ]
  },
  {
   "cell_type": "code",
   "execution_count": 3,
   "metadata": {
    "collapsed": false
   },
   "outputs": [],
   "source": [
    "# Simple single-track-based generation. (EXPERIMENT 1)\n",
    "# Output a single track whose note-to-note transition probabilities \n",
    "# are based off of Chopin's Black Keys\n",
    "\n",
    "import sys\n",
    "import mido as md \n",
    "from mido import MidiFile\n",
    "from collections import defaultdict\n",
    "import numpy as np\n",
    "from sklearn.preprocessing import normalize\n",
    "\n",
    "song = md.MidiFile('midis/chopinblack.mid')\n",
    "trackNotes = defaultdict(list)\n",
    "pMatrices = defaultdict(list)\n",
    "for i, track in enumerate(song.tracks):\n",
    "    pMatrix = np.zeros((128, 128))\n",
    "    prevNote = None\n",
    "    for msg in track:\n",
    "        if msg.type == 'note_on' and msg.velocity:\n",
    "            if prevNote:\n",
    "                pMatrix[prevNote][msg.note] += 1\n",
    "            prevNote = msg.note\n",
    "    if pMatrix.any():\n",
    "        pMatrices[i] = normalize(pMatrix, axis =1, norm = 'l1')\n",
    "songLength = 500\n",
    "starting_note = 66\n",
    "\n",
    "from mido import Message, MidiFile, MidiTrack, MetaMessage\n",
    "\n",
    "delta = 600\n",
    "current_note = starting_note\n",
    "current_note2 = starting_note + 5\n",
    "current_time = 0\n",
    "\n",
    "rh_trans = pMatrices[1]\n",
    "lh_trans = pMatrices[2]\n",
    "\n",
    "# print(rh_trans[current_note])\n",
    "\n",
    "outfile = MidiFile()\n",
    "\n",
    "track = MidiTrack()\n",
    "track2 = MidiTrack()\n",
    "outfile.tracks.append(track)\n",
    "outfile.tracks.append(track2)\n",
    "\n",
    "# track.append(Message('instrument_name', 'piano'))\n",
    "track.append(Message('program_change', program=12))\n",
    "\n",
    "track.append(MetaMessage(type = \"track_name\", name = \"Piano right\", time = 0))\n",
    "for i in range(songLength):\n",
    "    track.append(Message('note_on', note = current_note, velocity = 127, time = 75))\n",
    "#     track.append(Message('note_on', note = current_note, velocity = 0, time = 40))\n",
    "    possibleNexts = {i:rh_trans[current_note][i] for i in range(128) if rh_trans[current_note][i] > 0}\n",
    "    notes = list(possibleNexts.keys())\n",
    "    probabilities = [possibleNexts[n] for n in notes]\n",
    "    current_note = np.random.choice(notes, 1, p=probabilities)[0]\n",
    "track.append(MetaMessage(type = 'end_of_track', time = 0))\n",
    "\n",
    "track2.append(MetaMessage(type = 'track_name', name = \"Piano left\", time = 60))\n",
    "for i in range(songLength):\n",
    "    track2.append(Message('note_on', note = current_note2, velocity = 60, time = 75))\n",
    "    possibleNexts = {i:lh_trans[current_note2][i] for i in range(128) if lh_trans[current_note2][i] > 0}\n",
    "    notes = list(possibleNexts.keys())\n",
    "    probabilities = [possibleNexts[n] for n in notes]\n",
    "    current_note2 = np.random.choice(notes, 1, p=probabilities)[0]\n",
    "track2.append(MetaMessage(type = 'end_of_track', time = 0))\n",
    "\n",
    "\n",
    "outfile.save('testChopin.mid')\n"
   ]
  },
  {
   "cell_type": "code",
   "execution_count": null,
   "metadata": {
    "collapsed": true
   },
   "outputs": [],
   "source": []
  }
 ],
 "metadata": {
  "anaconda-cloud": {},
  "kernelspec": {
   "display_name": "Python [default]",
   "language": "python",
   "name": "python3"
  },
  "language_info": {
   "codemirror_mode": {
    "name": "ipython",
    "version": 3
   },
   "file_extension": ".py",
   "mimetype": "text/x-python",
   "name": "python",
   "nbconvert_exporter": "python",
   "pygments_lexer": "ipython3",
   "version": "3.5.2"
  }
 },
 "nbformat": 4,
 "nbformat_minor": 1
}
