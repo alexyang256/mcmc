{
 "cells": [
  {
   "cell_type": "code",
   "execution_count": 1,
   "metadata": {
    "collapsed": true
   },
   "outputs": [],
   "source": [
    "import mido as md\n",
    "import numpy as np\n",
    "from collections import defaultdict\n",
    "from sklearn import preprocessing"
   ]
  },
  {
   "cell_type": "code",
   "execution_count": 3,
   "metadata": {
    "collapsed": true
   },
   "outputs": [],
   "source": [
    "def generate_transition_probs(filepath):\n",
    "    poops = []\n",
    "    song = md.MidiFile(filepath)\n",
    "    \n",
    "    for track in song.tracks:\n",
    "        poop = np.zeros((127, 127))\n",
    "        prevnote = None\n",
    "        n = np.zeros(127)\n",
    "        for msg in track:\n",
    "            x = vars(msg)\n",
    "            if x['type'] == 'note_on' and x['velocity'] != 0:\n",
    "                note = x['note']\n",
    "                if prevnote is not None:\n",
    "                    poop[prevnote][note] += 1\n",
    "                    n[prevnote] += 1\n",
    "                prevnote = note\n",
    "\n",
    "        for i in range(127):\n",
    "            if (n[i] != 0):\n",
    "                poop[i] /= n[i]\n",
    "        poops.append(poop)\n",
    "    return poops\n"
   ]
  },
  {
   "cell_type": "code",
   "execution_count": 4,
   "metadata": {
    "collapsed": true
   },
   "outputs": [],
   "source": [
    "def transpose(filepath, offset):\n",
    "    result = md.MidiFile()\n",
    "    \n",
    "    song = md.MidiFile(filepath)\n",
    "    for track in song.tracks:\n",
    "        newtrack = md.MidiTrack()\n",
    "        result.tracks.append(newtrack)\n",
    "        for msg in track:\n",
    "            x = vars(msg)\n",
    "            if x['type'] == 'note_on':\n",
    "                note = x['note']\n",
    "                note += offset\n",
    "                newmessage = md.Message('note_on', note=note, velocity=x['velocity'], time=x['time'])\n",
    "                newtrack.append(newmessage)\n",
    "            else:\n",
    "                newtrack.append(msg)\n",
    "    result.save(\"midis/1.mid\")"
   ]
  },
  {
   "cell_type": "code",
   "execution_count": 5,
   "metadata": {
    "collapsed": true
   },
   "outputs": [],
   "source": [
    "def findKeySignature(song):\n",
    "    for i, track in enumerate(song.tracks):\n",
    "        for msg in track:\n",
    "            if msg.type == 'key_signature':\n",
    "                return msg.key\n",
    "            \n",
    "def findTransposeOffset(filepath):\n",
    "    song = md.MidiFile(filepath)\n",
    "    keys = ['C', 'C#/Db', 'D', 'D#/Eb', 'E', 'F', 'F#/Gb', 'G', 'G#/Ab', 'A', 'A#/Bb', 'B']\n",
    "    keySig = findKeySignature(song)\n",
    "    print(keySig)\n",
    "    for i in range(len(keys)):\n",
    "        if keySig in keys[i]:\n",
    "            offset = i\n",
    "            break\n",
    "    return offset\n",
    "\n",
    "def removeZeroNotes(matrix):\n",
    "    for j in (len(matrix)):\n",
    "        i = len(matrix) - j - 1\n",
    "        if not row.any(): #this means it's all zero\n",
    "            np.delete(matrix, i, 0)\n",
    "            np.delete(matrix, i, 1)\n",
    "    return matrix\n",
    "    \n",
    "    \n",
    "def findStationaryDist(matrix):\n",
    "    try:\n",
    "        w, v = np.linalg.eig(matrix.T)\n",
    "    except LinAlgError as e:\n",
    "        return None\n",
    "    if 1 in w:\n",
    "        return v[list(w).index(1)]\n",
    "    else:\n",
    "        return None"
   ]
  },
  {
   "cell_type": "code",
   "execution_count": null,
   "metadata": {
    "collapsed": true
   },
   "outputs": [],
   "source": []
  },
  {
   "cell_type": "markdown",
   "metadata": {},
   "source": [
    "\n",
    "# dicking around and trying to make the left hand/right hand stuff better"
   ]
  },
  {
   "cell_type": "code",
   "execution_count": 18,
   "metadata": {
    "collapsed": true
   },
   "outputs": [],
   "source": [
    "absoluteList = defaultdict(list)\n",
    "song = md.MidiFile('./midis/bach846.mid')\n",
    "for i, track in enumerate(song.tracks):\n",
    "    for msg in track:\n",
    "        if msg.type == 'note_on' and msg.velocity:\n",
    "            absoluteList[i].append(msg)\n",
    "    \n",
    "    ####THIS IS BOUND TO FUCK UP AND HAVE MULTIPLE POTENTIAL LEFT/RIGHT HAND TRACKS, OR EVEN EMPTY TRACKS\n",
    "    ####I MANUALLY INDEXED FOR NOW BELOW\n",
    "\n",
    "\n",
    "absoluteTime = 0\n",
    "rightHandTrack = []\n",
    "leftHandTrack = []\n",
    "for msg in absoluteList[1]:\n",
    "    rightHandTrack.append((absoluteTime, msg.note, 1))\n",
    "    absoluteTime += msg.time\n",
    "    \n",
    "absoluteTime = 0  \n",
    "for msg in absoluteList[2]:\n",
    "    leftHandTrack.append((absoluteTime, msg.note, 2))\n",
    "    absoluteTime += msg.time\n",
    "\n",
    "combined = rightHandTrack + leftHandTrack"
   ]
  },
  {
   "cell_type": "code",
   "execution_count": 19,
   "metadata": {
    "collapsed": false
   },
   "outputs": [],
   "source": [
    "#now, calculate transition probabilities for R->L. 'Combined' has tuples of (time, note, hand)\n",
    "notes = sorted(combined, key=lambda x: x[0])\n",
    "pMatrix = np.zeros((256, 256))\n",
    "prevNote = None\n",
    "for note in notes:\n",
    "    if prevNote:\n",
    "        pMatrix[prevNote][note[1]*note[2]] += 1\n",
    "    prevNote = note[1]*note[2]\n",
    "        \n",
    "pMatrix = preprocessing.normalize(pMatrix, axis=1, norm='l1')\n",
    "    \n",
    "#now, given this pMatrix, need to 'step through' it - HOWEVER\n",
    "#for the coordinate generated, needs to be placed in a separate track\n",
    "\n",
    "songLength = 500\n",
    "starting_note = 66\n",
    "\n",
    "from mido import Message, MidiFile, MidiTrack\n",
    "\n",
    "delta = 240\n",
    "current_note = starting_note\n",
    "current_time = 0\n",
    "\n",
    "outfile = MidiFile()\n",
    "trackRight = MidiTrack()\n",
    "trackLeft = MidiTrack()\n",
    "outfile.tracks.append(trackRight)\n",
    "outfile.tracks.append(trackLeft)\n",
    "trackRight.append(Message('program_change', program=12))\n",
    "trackLeft.append(Message('program_change', program=12))\n",
    "\n",
    "right = True\n",
    "for i in range(songLength):\n",
    "    if right:\n",
    "        track = trackRight\n",
    "    else:\n",
    "        track = trackLeft\n",
    "    \n",
    "    track.append(Message('note_on', note = current_note%127, velocity = 60, time = delta))\n",
    "    possibleNexts = {i:pMatrix[current_note][i] for i in range(254) if pMatrix[current_note][i] > 0}\n",
    "    notes = list(possibleNexts.keys())\n",
    "    probabilities = [possibleNexts[n] for n in notes]\n",
    "    prev_note = current_note\n",
    "    current_note = np.random.choice(notes, 1, p=probabilities)[0]\n",
    "    if current_note//127 != prev_note//127:\n",
    "        right = not right\n",
    "\n",
    "outfile.save('testBach2.mid')"
   ]
  },
  {
   "cell_type": "code",
   "execution_count": 22,
   "metadata": {
    "collapsed": false
   },
   "outputs": [
    {
     "data": {
      "text/plain": [
       "<midi track '' 4 messages>"
      ]
     },
     "execution_count": 22,
     "metadata": {},
     "output_type": "execute_result"
    }
   ],
   "source": [
    "trackLeft"
   ]
  },
  {
   "cell_type": "code",
   "execution_count": null,
   "metadata": {
    "collapsed": true
   },
   "outputs": [],
   "source": []
  }
 ],
 "metadata": {
  "anaconda-cloud": {},
  "kernelspec": {
   "display_name": "Python [default]",
   "language": "python",
   "name": "python3"
  },
  "language_info": {
   "codemirror_mode": {
    "name": "ipython",
    "version": 3
   },
   "file_extension": ".py",
   "mimetype": "text/x-python",
   "name": "python",
   "nbconvert_exporter": "python",
   "pygments_lexer": "ipython3",
   "version": "3.5.2"
  }
 },
 "nbformat": 4,
 "nbformat_minor": 1
}
