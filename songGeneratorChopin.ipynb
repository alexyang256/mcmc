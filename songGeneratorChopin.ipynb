{
 "cells": [
  {
   "cell_type": "code",
   "execution_count": 31,
   "metadata": {},
   "outputs": [
    {
     "name": "stdout",
     "output_type": "stream",
     "text": [
      "[[ 0.  0.  0. ...,  0.  0.  0.]\n",
      " [ 0.  0.  0. ...,  0.  0.  0.]\n",
      " [ 0.  0.  0. ...,  0.  0.  0.]\n",
      " ..., \n",
      " [ 0.  0.  0. ...,  0.  0.  0.]\n",
      " [ 0.  0.  0. ...,  0.  0.  0.]\n",
      " [ 0.  0.  0. ...,  0.  0.  0.]]\n"
     ]
    }
   ],
   "source": [
    "import sys\n",
    "import mido as md \n",
    "from mido import MidiFile\n",
    "from collections import defaultdict\n",
    "import numpy as np\n",
    "from sklearn.preprocessing import normalize\n",
    "\n",
    "song = md.MidiFile('chpn_op10_e05.mid')\n",
    "trackNotes = defaultdict(list)\n",
    "pMatrices = defaultdict(list)\n",
    "for i, track in enumerate(song.tracks):\n",
    "    pMatrix = np.zeros((128, 128))\n",
    "    prevNote = None\n",
    "    for msg in track:\n",
    "        if msg.type == 'note_on' and msg.velocity:\n",
    "            if prevNote:\n",
    "                pMatrix[prevNote][msg.note] += 1\n",
    "            prevNote = msg.note\n",
    "    if pMatrix.any():\n",
    "        pMatrices[i] = normalize(pMatrix, axis =1, norm = 'l1')\n",
    "print(pMatrices[1])"
   ]
  },
  {
   "cell_type": "code",
   "execution_count": 32,
   "metadata": {},
   "outputs": [],
   "source": [
    "songLength = 500\n",
    "starting_note = 66"
   ]
  },
  {
   "cell_type": "code",
   "execution_count": 43,
   "metadata": {},
   "outputs": [],
   "source": [
    "from mido import Message, MidiFile, MidiTrack\n",
    "\n",
    "delta = 80\n",
    "current_note = starting_note\n",
    "current_time = 0\n",
    "\n",
    "rh_trans = pMatrices[1]\n",
    "\n",
    "# print(rh_trans[current_note])\n",
    "\n",
    "outfile = MidiFile()\n",
    "\n",
    "track = MidiTrack()\n",
    "outfile.tracks.append(track)\n",
    "\n",
    "# track.append(Message('instrument_name', 'piano'))\n",
    "track.append(Message('program_change', program=12))\n",
    "\n",
    "for i in range(songLength):\n",
    "    track.append(Message('note_on', note = current_note, velocity = 60, time = delta))\n",
    "    possibleNexts = {i:rh_trans[current_note][i] for i in range(128) if rh_trans[current_note][i] > 0}\n",
    "    notes = list(possibleNexts.keys())\n",
    "    probabilities = [possibleNexts[n] for n in notes]\n",
    "    current_note = np.random.choice(notes, 1, p=probabilities)[0]\n",
    "\n",
    "outfile.save('testChopin.mid')\n"
   ]
  },
  {
   "cell_type": "code",
   "execution_count": null,
   "metadata": {
    "collapsed": true
   },
   "outputs": [],
   "source": []
  }
 ],
 "metadata": {
  "kernelspec": {
   "display_name": "Python 3",
   "language": "python",
   "name": "python3"
  },
  "language_info": {
   "codemirror_mode": {
    "name": "ipython",
    "version": 3
   },
   "file_extension": ".py",
   "mimetype": "text/x-python",
   "name": "python",
   "nbconvert_exporter": "python",
   "pygments_lexer": "ipython3",
   "version": "3.6.1"
  }
 },
 "nbformat": 4,
 "nbformat_minor": 2
}
